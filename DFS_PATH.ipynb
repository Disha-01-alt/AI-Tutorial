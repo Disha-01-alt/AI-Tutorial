{
 "cells": [
  {
   "cell_type": "code",
   "execution_count": 2,
   "id": "e2020d2d",
   "metadata": {},
   "outputs": [
    {
     "name": "stdout",
     "output_type": "stream",
     "text": [
      "(['u', 'v', 'y'], 2)\n"
     ]
    }
   ],
   "source": [
    "\n",
    "color={}\n",
    "parent={}\n",
    "stack=[]\n",
    "time_s={}\n",
    "time_f={}\n",
    "node_list=[]\n",
    "time = 0\n",
    "def DFS(G):\n",
    "    \n",
    "    global color, parent, node_list\n",
    "    for u in G:\n",
    "        color[u] = \"WHITE\"  \n",
    "        parent[u] = None\n",
    "        node_list.append(u)\n",
    "    \n",
    "    for u in G:\n",
    "        if color[u]==\"WHITE\":\n",
    "            DFS_VISIT(G,u)\n",
    "\n",
    "def DFS_VISIT(G,u):\n",
    "    global time, color, parent, time_s, time_f\n",
    "    # l=[]\n",
    "    time+=1\n",
    "    time_s[u]=time\n",
    "    color[u] = \"GRAY\" \n",
    "    stack.append(u)  \n",
    "\n",
    "    for v in G[u]:\n",
    "        if color[v] == \"WHITE\":\n",
    "            parent[v] = u\n",
    "            DFS_VISIT(G, v)\n",
    "\n",
    "    color[u] = \"BLACK\" \n",
    "    time+=1\n",
    "    time_f[u]=time  \n",
    "    (stack.pop()) \n",
    "    # return l\n",
    "\n",
    "\n",
    "\n",
    "def DFS_PATH(G, start, target):\n",
    "    DFS(G)\n",
    "    path = []\n",
    "    node = target\n",
    "    while node is not None:\n",
    "        path.append(node)\n",
    "        if node == start:\n",
    "            break\n",
    "        node = parent[node]\n",
    "\n",
    "\n",
    "    if not path or path[-1] != start:\n",
    "        return None\n",
    "    \n",
    "    path.reverse()\n",
    "    return path, len(path)-1\n",
    "\n",
    "G = {'u': ['v', 'x'], 'v': ['y'], 'w': ['y','z'], 'x': ['v'], 'y': ['x'], 'z': ['z']}\n",
    "print(DFS_PATH(G, 'u', 'y'))\n",
    "\n",
    "\n",
    "        "
   ]
  }
 ],
 "metadata": {
  "kernelspec": {
   "display_name": "Python 3",
   "language": "python",
   "name": "python3"
  },
  "language_info": {
   "codemirror_mode": {
    "name": "ipython",
    "version": 3
   },
   "file_extension": ".py",
   "mimetype": "text/x-python",
   "name": "python",
   "nbconvert_exporter": "python",
   "pygments_lexer": "ipython3",
   "version": "3.12.5"
  }
 },
 "nbformat": 4,
 "nbformat_minor": 5
}
