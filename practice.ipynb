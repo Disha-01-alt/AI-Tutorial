{
 "cells": [
  {
   "cell_type": "code",
   "execution_count": 1,
   "id": "56a91c9a",
   "metadata": {},
   "outputs": [],
   "source": [
    "from collections import deque"
   ]
  },
  {
   "cell_type": "code",
   "execution_count": 2,
   "id": "b9b200a9",
   "metadata": {},
   "outputs": [],
   "source": [
    "graph = {\n",
    "    'A': ['B', 'C'],\n",
    "    'B': ['D', 'E'],\n",
    "    'C': ['F'],\n",
    "    'D': [],\n",
    "    'E': ['F'],\n",
    "    'F': []\n",
    "}"
   ]
  },
  {
   "cell_type": "markdown",
   "id": "fe65e2ab",
   "metadata": {},
   "source": [
    "Breadth First Search\n",
    "\n",
    "Complexity: O(V+E)"
   ]
  },
  {
   "cell_type": "code",
   "execution_count": 3,
   "id": "b377126e",
   "metadata": {},
   "outputs": [],
   "source": [
    "color={u:'White' for u in graph}\n",
    "dist={d:float('inf') for d in graph}\n",
    "parent={p:'None' for p in graph}\n",
    "def bfs(graph,s):\n",
    "  color={u:'White' for u in graph}\n",
    "  dist={d:float('inf') for d in graph}\n",
    "  parent={p:'None' for p in graph}\n",
    "  color[s]='Grey'\n",
    "  dist[s]=0\n",
    "  Q=deque()\n",
    "  Q.append(s)\n",
    "  while Q:\n",
    "    u=Q.popleft()\n",
    "    for v in graph[u]:\n",
    "      if color[v]=='White':\n",
    "        color[v]='Grey'\n",
    "        dist[v]=dist[u]+1\n",
    "        parent[v]=u\n",
    "        Q.appendleft(v)\n",
    "    color[u]='Black'\n",
    "  return dist,parent"
   ]
  },
  {
   "cell_type": "code",
   "execution_count": 4,
   "id": "beeb3369",
   "metadata": {},
   "outputs": [
    {
     "data": {
      "text/plain": [
       "({'A': 0, 'B': 1, 'C': 1, 'D': 2, 'E': 2, 'F': 2},\n",
       " {'A': 'None', 'B': 'A', 'C': 'A', 'D': 'B', 'E': 'B', 'F': 'C'})"
      ]
     },
     "execution_count": 4,
     "metadata": {},
     "output_type": "execute_result"
    }
   ],
   "source": [
    "bfs(graph,'A')"
   ]
  },
  {
   "cell_type": "markdown",
   "id": "0ef260ee",
   "metadata": {},
   "source": [
    "Depth First Search\n",
    "\n",
    "Complexity: O(V+E)"
   ]
  },
  {
   "cell_type": "code",
   "execution_count": 22,
   "id": "bc324ffb",
   "metadata": {},
   "outputs": [],
   "source": [
    "color={u:'White' for u in graph}\n",
    "parent={p:'None' for p in graph}\n",
    "discovery={}\n",
    "finish={}\n",
    "time=0\n",
    "def dfsVisit(u):\n",
    "  global color,parent,discovery,time\n",
    "  color[u]='Gray'\n",
    "  time=time+1\n",
    "  discovery[u]=time\n",
    "  for v in graph[u]:\n",
    "    if color[v]=='White':\n",
    "      parent[v]=u\n",
    "      dfsVisit(v)\n",
    "  color[u]='Black'\n",
    "  time+=1\n",
    "  finish[u]=time\n",
    "def dfs(graph):\n",
    "  for v in graph:\n",
    "    if color[v]=='White':\n",
    "      dfsVisit(v)\n",
    "  return parent\n",
    "  \n"
   ]
  },
  {
   "cell_type": "code",
   "execution_count": 23,
   "id": "81d0cbd1",
   "metadata": {},
   "outputs": [
    {
     "data": {
      "text/plain": [
       "{'A': 'None', 'B': 'A', 'C': 'A', 'D': 'B', 'E': 'B', 'F': 'E'}"
      ]
     },
     "execution_count": 23,
     "metadata": {},
     "output_type": "execute_result"
    }
   ],
   "source": [
    "dfs(graph)"
   ]
  },
  {
   "cell_type": "markdown",
   "id": "979a41da",
   "metadata": {},
   "source": [
    "Best Known Path"
   ]
  },
  {
   "cell_type": "code",
   "execution_count": 41,
   "id": "5ab9fc95",
   "metadata": {},
   "outputs": [],
   "source": [
    "from collections import deque\n",
    "\n",
    "def path(graph, s, f):\n",
    "    def bfs(graph, s, f):   # function to calculate the path from s to f through bfs\n",
    "        bfslst = [s]  # to store path from s to f (moved inside bfs so it resets correctly)\n",
    "        color = {u: 'White' for u in graph}\n",
    "        Q = deque()\n",
    "        Q.append(s)  # we will start from source node\n",
    "        while Q:\n",
    "            u = Q.popleft()  # pop out current node\n",
    "            color[u] = 'Gray' # mark it as visited\n",
    "            if u == f:        # if we finds destination then return the list\n",
    "                return bfslst\n",
    "            for v in graph[u]:   # otherwise we go through other nodes and append them level-wise\n",
    "                if color[v] == 'White':\n",
    "                    color[v] = 'Gray'\n",
    "                    Q.append(v)\n",
    "                    bfslst.append(v)\n",
    "                    if v == f:   # if we finds destination then return the list\n",
    "                        return bfslst\n",
    "            color[u] = 'Black'\n",
    "        return []  # if no path found, return empty list\n",
    "\n",
    "    def dfs(graph, s, f):   # function to calculate the path from s to f through dfs\n",
    "        color = {u: 'White' for u in graph}\n",
    "        result = [] # to store path from s to f\n",
    "        def dfsVisit(v): # function to go from given node to adjacent nestedly\n",
    "            color[v] = 'Gray'\n",
    "            result.append(v)\n",
    "            if v == f:  # if you find destination, return True\n",
    "                return True\n",
    "            for u in graph[v]:\n",
    "                if color[u] == 'White':\n",
    "                    if dfsVisit(u):  # if finally get the destination then final return True\n",
    "                        return True\n",
    "            return False # if no adjacent, return False\n",
    "        found = dfsVisit(s)   # the return value from dfsVisit\n",
    "        return result if found else []  # return final dfs path from s to f or empty if not found\n",
    "\n",
    "    dp = dfs(graph, s, f)\n",
    "    bp = bfs(graph, s, f)\n",
    "    # then check which path is smaller and return path with search technique name\n",
    "    if len(dp)<len(bp):  \n",
    "        return \"DFS:\",dp\n",
    "    elif len(bp)<len(dp):\n",
    "        return \"BFS:\",bp\n",
    "    else:\n",
    "        return \"DFS:\",dp,\"BFS:\",bp\n"
   ]
  },
  {
   "cell_type": "code",
   "execution_count": 42,
   "id": "27f0fef6",
   "metadata": {},
   "outputs": [],
   "source": [
    "import ast"
   ]
  },
  {
   "cell_type": "code",
   "execution_count": null,
   "id": "89957c10",
   "metadata": {},
   "outputs": [],
   "source": [
    "import ast\n",
    "\n",
    "def bestpath(filename):\n",
    "    with open(filename, \"r\") as f:\n",
    "        lines = f.read().splitlines()\n",
    "    graph = ast.literal_eval(lines[0])   # parse graph\n",
    "    s = ast.literal_eval(lines[1])       # parse start node\n",
    "    f_node = ast.literal_eval(lines[2])  # parse finish node\n",
    "    return path(graph, s, f_node)\n"
   ]
  },
  {
   "cell_type": "code",
   "execution_count": 44,
   "id": "a0a3acf0",
   "metadata": {},
   "outputs": [
    {
     "name": "stdout",
     "output_type": "stream",
     "text": [
      "[\"{'A': ['B', 'C'],'B': ['D', 'E'],'C': ['F'],'D': [],'E': ['F'],'F': []}\", \"'A'\", \"'C'\"]\n"
     ]
    },
    {
     "ename": "KeyError",
     "evalue": "\"'A'\"",
     "output_type": "error",
     "traceback": [
      "\u001b[0;31m---------------------------------------------------------------------------\u001b[0m",
      "\u001b[0;31mKeyError\u001b[0m                                  Traceback (most recent call last)",
      "Cell \u001b[0;32mIn[44], line 1\u001b[0m\n\u001b[0;32m----> 1\u001b[0m \u001b[43mbestpath\u001b[49m\u001b[43m(\u001b[49m\u001b[38;5;124;43m\"\u001b[39;49m\u001b[38;5;124;43minput.txt\u001b[39;49m\u001b[38;5;124;43m\"\u001b[39;49m\u001b[43m)\u001b[49m\n",
      "Cell \u001b[0;32mIn[43], line 8\u001b[0m, in \u001b[0;36mbestpath\u001b[0;34m(file)\u001b[0m\n\u001b[1;32m      6\u001b[0m f\u001b[38;5;241m=\u001b[39mlines[\u001b[38;5;241m2\u001b[39m]\u001b[38;5;241m.\u001b[39mstrip()\n\u001b[1;32m      7\u001b[0m \u001b[38;5;28mprint\u001b[39m(lines)\n\u001b[0;32m----> 8\u001b[0m \u001b[38;5;28;01mreturn\u001b[39;00m \u001b[43mpath\u001b[49m\u001b[43m(\u001b[49m\u001b[43mgraph\u001b[49m\u001b[43m,\u001b[49m\u001b[43ms\u001b[49m\u001b[43m,\u001b[49m\u001b[43mf\u001b[49m\u001b[43m)\u001b[49m\n",
      "Cell \u001b[0;32mIn[41], line 40\u001b[0m, in \u001b[0;36mpath\u001b[0;34m(graph, s, f)\u001b[0m\n\u001b[1;32m     37\u001b[0m     found \u001b[38;5;241m=\u001b[39m dfsVisit(s)   \u001b[38;5;66;03m# the return value from dfsVisit\u001b[39;00m\n\u001b[1;32m     38\u001b[0m     \u001b[38;5;28;01mreturn\u001b[39;00m result \u001b[38;5;28;01mif\u001b[39;00m found \u001b[38;5;28;01melse\u001b[39;00m []  \u001b[38;5;66;03m# return final dfs path from s to f or empty if not found\u001b[39;00m\n\u001b[0;32m---> 40\u001b[0m dp \u001b[38;5;241m=\u001b[39m \u001b[43mdfs\u001b[49m\u001b[43m(\u001b[49m\u001b[43mgraph\u001b[49m\u001b[43m,\u001b[49m\u001b[43m \u001b[49m\u001b[43ms\u001b[49m\u001b[43m,\u001b[49m\u001b[43m \u001b[49m\u001b[43mf\u001b[49m\u001b[43m)\u001b[49m\n\u001b[1;32m     41\u001b[0m bp \u001b[38;5;241m=\u001b[39m bfs(graph, s, f)\n\u001b[1;32m     42\u001b[0m \u001b[38;5;66;03m# then check which path is smaller and return path with search technique name\u001b[39;00m\n",
      "Cell \u001b[0;32mIn[41], line 37\u001b[0m, in \u001b[0;36mpath.<locals>.dfs\u001b[0;34m(graph, s, f)\u001b[0m\n\u001b[1;32m     35\u001b[0m                 \u001b[38;5;28;01mreturn\u001b[39;00m \u001b[38;5;28;01mTrue\u001b[39;00m\n\u001b[1;32m     36\u001b[0m     \u001b[38;5;28;01mreturn\u001b[39;00m \u001b[38;5;28;01mFalse\u001b[39;00m \u001b[38;5;66;03m# if no adjacent, return False\u001b[39;00m\n\u001b[0;32m---> 37\u001b[0m found \u001b[38;5;241m=\u001b[39m \u001b[43mdfsVisit\u001b[49m\u001b[43m(\u001b[49m\u001b[43ms\u001b[49m\u001b[43m)\u001b[49m   \u001b[38;5;66;03m# the return value from dfsVisit\u001b[39;00m\n\u001b[1;32m     38\u001b[0m \u001b[38;5;28;01mreturn\u001b[39;00m result \u001b[38;5;28;01mif\u001b[39;00m found \u001b[38;5;28;01melse\u001b[39;00m []\n",
      "Cell \u001b[0;32mIn[41], line 32\u001b[0m, in \u001b[0;36mpath.<locals>.dfs.<locals>.dfsVisit\u001b[0;34m(v)\u001b[0m\n\u001b[1;32m     30\u001b[0m \u001b[38;5;28;01mif\u001b[39;00m v \u001b[38;5;241m==\u001b[39m f:  \u001b[38;5;66;03m# if you find destination, return True\u001b[39;00m\n\u001b[1;32m     31\u001b[0m     \u001b[38;5;28;01mreturn\u001b[39;00m \u001b[38;5;28;01mTrue\u001b[39;00m\n\u001b[0;32m---> 32\u001b[0m \u001b[38;5;28;01mfor\u001b[39;00m u \u001b[38;5;129;01min\u001b[39;00m \u001b[43mgraph\u001b[49m\u001b[43m[\u001b[49m\u001b[43mv\u001b[49m\u001b[43m]\u001b[49m:\n\u001b[1;32m     33\u001b[0m     \u001b[38;5;28;01mif\u001b[39;00m color[u] \u001b[38;5;241m==\u001b[39m \u001b[38;5;124m'\u001b[39m\u001b[38;5;124mWhite\u001b[39m\u001b[38;5;124m'\u001b[39m:\n\u001b[1;32m     34\u001b[0m         \u001b[38;5;28;01mif\u001b[39;00m dfsVisit(u):  \u001b[38;5;66;03m# if finally get the destination then final return True\u001b[39;00m\n",
      "\u001b[0;31mKeyError\u001b[0m: \"'A'\""
     ]
    }
   ],
   "source": [
    "bestpath(\"input.txt\")"
   ]
  },
  {
   "cell_type": "code",
   "execution_count": null,
   "id": "b7939a56",
   "metadata": {},
   "outputs": [],
   "source": []
  }
 ],
 "metadata": {
  "kernelspec": {
   "display_name": "venv (3.12.3)",
   "language": "python",
   "name": "python3"
  },
  "language_info": {
   "codemirror_mode": {
    "name": "ipython",
    "version": 3
   },
   "file_extension": ".py",
   "mimetype": "text/x-python",
   "name": "python",
   "nbconvert_exporter": "python",
   "pygments_lexer": "ipython3",
   "version": "3.12.3"
  }
 },
 "nbformat": 4,
 "nbformat_minor": 5
}
