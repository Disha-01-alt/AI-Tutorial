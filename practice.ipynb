{
 "cells": [
  {
   "cell_type": "code",
   "execution_count": 1,
   "id": "56a91c9a",
   "metadata": {},
   "outputs": [],
   "source": [
    "from collections import deque"
   ]
  },
  {
   "cell_type": "code",
   "execution_count": 2,
   "id": "b9b200a9",
   "metadata": {},
   "outputs": [],
   "source": [
    "graph = {\n",
    "    'A': ['B', 'C'],\n",
    "    'B': ['D', 'E'],\n",
    "    'C': ['F'],\n",
    "    'D': [],\n",
    "    'E': ['F'],\n",
    "    'F': []\n",
    "}"
   ]
  },
  {
   "cell_type": "markdown",
   "id": "fe65e2ab",
   "metadata": {},
   "source": [
    "Breadth First Search\n",
    "\n",
    "Complexity: O(V+E)"
   ]
  },
  {
   "cell_type": "code",
   "execution_count": 3,
   "id": "b377126e",
   "metadata": {},
   "outputs": [],
   "source": [
    "color={u:'White' for u in graph}\n",
    "dist={d:float('inf') for d in graph}\n",
    "parent={p:'None' for p in graph}\n",
    "def bfs(graph,s):\n",
    "  color={u:'White' for u in graph}\n",
    "  dist={d:float('inf') for d in graph}\n",
    "  parent={p:'None' for p in graph}\n",
    "  color[s]='Grey'\n",
    "  dist[s]=0\n",
    "  Q=deque()\n",
    "  Q.append(s)\n",
    "  while Q:\n",
    "    u=Q.popleft()\n",
    "    for v in graph[u]:\n",
    "      if color[v]=='White':\n",
    "        color[v]='Grey'\n",
    "        dist[v]=dist[u]+1\n",
    "        parent[v]=u\n",
    "        Q.appendleft(v)\n",
    "    color[u]='Black'\n",
    "  return dist,parent"
   ]
  },
  {
   "cell_type": "code",
   "execution_count": 4,
   "id": "beeb3369",
   "metadata": {},
   "outputs": [
    {
     "data": {
      "text/plain": [
       "({'A': 0, 'B': 1, 'C': 1, 'D': 2, 'E': 2, 'F': 2},\n",
       " {'A': 'None', 'B': 'A', 'C': 'A', 'D': 'B', 'E': 'B', 'F': 'C'})"
      ]
     },
     "execution_count": 4,
     "metadata": {},
     "output_type": "execute_result"
    }
   ],
   "source": [
    "bfs(graph,'A')"
   ]
  },
  {
   "cell_type": "markdown",
   "id": "0ef260ee",
   "metadata": {},
   "source": [
    "Depth First Search\n",
    "\n",
    "Complexity: O(V+E)"
   ]
  },
  {
   "cell_type": "code",
   "execution_count": 22,
   "id": "bc324ffb",
   "metadata": {},
   "outputs": [],
   "source": [
    "color={u:'White' for u in graph}\n",
    "parent={p:'None' for p in graph}\n",
    "discovery={}\n",
    "finish={}\n",
    "time=0\n",
    "def dfsVisit(u):\n",
    "  global color,parent,discovery,time\n",
    "  color[u]='Gray'\n",
    "  time=time+1\n",
    "  discovery[u]=time\n",
    "  for v in graph[u]:\n",
    "    if color[v]=='White':\n",
    "      parent[v]=u\n",
    "      dfsVisit(v)\n",
    "  color[u]='Black'\n",
    "  time+=1\n",
    "  finish[u]=time\n",
    "def dfs(graph):\n",
    "  for v in graph:\n",
    "    if color[v]=='White':\n",
    "      dfsVisit(v)\n",
    "  return parent\n",
    "  \n"
   ]
  },
  {
   "cell_type": "code",
   "execution_count": 23,
   "id": "81d0cbd1",
   "metadata": {},
   "outputs": [
    {
     "data": {
      "text/plain": [
       "{'A': 'None', 'B': 'A', 'C': 'A', 'D': 'B', 'E': 'B', 'F': 'E'}"
      ]
     },
     "execution_count": 23,
     "metadata": {},
     "output_type": "execute_result"
    }
   ],
   "source": [
    "dfs(graph)"
   ]
  },
  {
   "cell_type": "markdown",
   "id": "979a41da",
   "metadata": {},
   "source": [
    "Best Known Path"
   ]
  },
  {
   "cell_type": "code",
   "execution_count": null,
   "id": "5ab9fc95",
   "metadata": {},
   "outputs": [],
   "source": [
    "from collections import deque\n",
    "\n",
    "def path(graph, s, f):\n",
    "    def bfs(graph, s, f):   # function to calculate the path from s to f through bfs\n",
    "        bfslst = [s]  # to store path from s to f (moved inside bfs so it resets correctly)\n",
    "        color = {u: 'White' for u in graph}\n",
    "        Q = deque()\n",
    "        Q.append(s)  # we will start from source node\n",
    "        while Q:\n",
    "            u = Q.popleft()  # pop out current node\n",
    "            color[u] = 'Gray' # mark it as visited\n",
    "            if u == f:        # if we finds destination then return the list\n",
    "                return bfslst\n",
    "            for v in graph[u]:   # otherwise we go through other nodes and append them level-wise\n",
    "                if color[v] == 'White':\n",
    "                    color[v] = 'Gray'\n",
    "                    Q.append(v)\n",
    "                    bfslst.append(v)\n",
    "                    if v == f:   # if we finds destination then return the list\n",
    "                        return bfslst\n",
    "            color[u] = 'Black'\n",
    "        return []  # if no path found, return empty list\n",
    "\n",
    "    def dfs(graph, s, f):   # function to calculate the path from s to f through dfs\n",
    "        color = {u: 'White' for u in graph}\n",
    "        result = [] # to store path from s to f\n",
    "        def dfsVisit(v): # function to go from given node to adjacent nestedly\n",
    "            color[v] = 'Gray'\n",
    "            result.append(v)\n",
    "            if v == f:  # if you find destination, return True\n",
    "                return True\n",
    "            for u in graph[v]:\n",
    "                if color[u] == 'White':\n",
    "                    if dfsVisit(u):  # if finally get the destination then final return True\n",
    "                        return True\n",
    "            return False # if no adjacent, return False\n",
    "        found = dfsVisit(s)   # respect the return value from dfsVisit\n",
    "        return result if found else []  # return final dfs path from s to f or empty if not found\n",
    "\n",
    "    dp = dfs(graph, s, f)\n",
    "    bp = bfs(graph, s, f)\n",
    "    # then check which path is smaller and return path with search technique name\n",
    "    if len(dp)<len(bp):  \n",
    "        return \"DFS:\",dp\n",
    "    elif len(bp)<len(dp):\n",
    "        return \"BFS:\",bp\n",
    "    else:\n",
    "        return \"DFS:\",dp,\"BFS:\",bp\n"
   ]
  },
  {
   "cell_type": "code",
   "execution_count": 25,
   "id": "f05ffdf8",
   "metadata": {},
   "outputs": [
    {
     "data": {
      "text/plain": [
       "('BFS:', ['A', 'B', 'C'])"
      ]
     },
     "execution_count": 25,
     "metadata": {},
     "output_type": "execute_result"
    }
   ],
   "source": [
    "path(graph,'A','C')"
   ]
  },
  {
   "cell_type": "code",
   "execution_count": null,
   "id": "b7939a56",
   "metadata": {},
   "outputs": [],
   "source": []
  }
 ],
 "metadata": {
  "kernelspec": {
   "display_name": "venv (3.12.3)",
   "language": "python",
   "name": "python3"
  },
  "language_info": {
   "codemirror_mode": {
    "name": "ipython",
    "version": 3
   },
   "file_extension": ".py",
   "mimetype": "text/x-python",
   "name": "python",
   "nbconvert_exporter": "python",
   "pygments_lexer": "ipython3",
   "version": "3.12.3"
  }
 },
 "nbformat": 4,
 "nbformat_minor": 5
}
